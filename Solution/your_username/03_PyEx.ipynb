{
 "cells": [
  {
   "cell_type": "markdown",
   "metadata": {
    "id": "9P1nZEroRpIg"
   },
   "source": [
    "# 03 - Beginner Exercises\n",
    "\n",
    "\n",
    "*   String \n",
    "\n",
    "\n",
    "---\n",
    "\n",
    "\n",
    "\n",
    "\n",
    "## 🍉🍉🍉\n",
    "\n",
    "1.Assign the string below to the variable.\n",
    "\n",
    "\"**I’m just highly motivated to do nothing**\""
   ]
  },
  {
   "cell_type": "code",
   "execution_count": 1,
   "metadata": {
    "id": "Jy6Adr0ARlzI"
   },
   "outputs": [
    {
     "name": "stdout",
     "output_type": "stream",
     "text": [
      "I'm just highly motivated to do nothing\n"
     ]
    }
   ],
   "source": [
    "# Write your own code in this cell \n",
    "mystring = \"I'm just highly motivated to do nothing\"\n",
    "print(mystring)"
   ]
  },
  {
   "cell_type": "markdown",
   "metadata": {
    "id": "nL3ZMbuVSV91"
   },
   "source": [
    "## 🍉🍉🍉\n",
    "\n",
    "2.By using **last** , **fifth** and **one before the last** characters of the ```mystring```, create a new string."
   ]
  },
  {
   "cell_type": "code",
   "execution_count": 3,
   "metadata": {
    "id": "0oth7yoZUoLp"
   },
   "outputs": [
    {
     "name": "stdout",
     "output_type": "stream",
     "text": [
      "gjn\n"
     ]
    }
   ],
   "source": [
    "# Write your own code in this cell\n",
    "new = mystring[-1] + mystring[4] + mystring[-2]\n",
    "print(new)"
   ]
  },
  {
   "cell_type": "markdown",
   "metadata": {
    "id": "KS_Do1ZsSWmH"
   },
   "source": [
    "## 🍉🍉🍉\n",
    "\n",
    "3.replace **g** with **s** in ```mystring``` using ```replace()``` method"
   ]
  },
  {
   "cell_type": "code",
   "execution_count": 6,
   "metadata": {
    "id": "DJzs_0y-VouU"
   },
   "outputs": [
    {
     "name": "stdout",
     "output_type": "stream",
     "text": [
      "I'm just hishly motivated to do nothins\n"
     ]
    }
   ],
   "source": [
    "# Write your own code in this cell\n",
    "mystring = mystring.replace(\"g\", \"s\")\n",
    "\n",
    "\n",
    "print(mystring)"
   ]
  },
  {
   "cell_type": "markdown",
   "metadata": {
    "id": "ArsDxqEKmRrh"
   },
   "source": [
    "## 🍉🍉\n",
    "\n",
    "4.The following string of characters appears to be reversed; please fix it and print the result. \n",
    "**\".enod er’uoy nehw wonk reven uoy ,drah si gnihton gnioD\"** "
   ]
  },
  {
   "cell_type": "code",
   "execution_count": 10,
   "metadata": {
    "id": "3d8iFPOImUAW"
   },
   "outputs": [
    {
     "name": "stdout",
     "output_type": "stream",
     "text": [
      "Doing nothing is hard, you never know when you’re done.\n"
     ]
    }
   ],
   "source": [
    "# Write your own code in this cell\n",
    "first_s = \".enod er’uoy nehw wonk reven uoy ,drah si gnihton gnioD\"\n",
    "second_s = first_s[::-1]\n",
    "print(second_s)"
   ]
  },
  {
   "cell_type": "markdown",
   "metadata": {
    "id": "pR-EDJhBSW_P"
   },
   "source": [
    "## 🍉🍉\n",
    "\n",
    "5.Reassign ```mystring``` with this pharase **\"Friday, my second favorite F word.\"**  and use one of the built-in methods for strings to lowercase all the characters."
   ]
  },
  {
   "cell_type": "code",
   "execution_count": 11,
   "metadata": {
    "id": "T4cmTSyeWZ99"
   },
   "outputs": [
    {
     "name": "stdout",
     "output_type": "stream",
     "text": [
      "friday, my second favorite f word.\n"
     ]
    }
   ],
   "source": [
    "# Write your own code in this cell\n",
    "mystring = \"Friday, my second favorite F word.\"\n",
    "mystring = mystring.lower()\n",
    "\n",
    "\n",
    "print(mystring)"
   ]
  },
  {
   "cell_type": "markdown",
   "metadata": {
    "id": "TAwR3oMfSXZX"
   },
   "source": [
    "## 🍉🍉\n",
    "\n",
    "6.Use a built-in method to check if ```mystring``` end with a \".\" "
   ]
  },
  {
   "cell_type": "code",
   "execution_count": 13,
   "metadata": {
    "id": "-srD8lB4dvnM"
   },
   "outputs": [
    {
     "name": "stdout",
     "output_type": "stream",
     "text": [
      "True\n"
     ]
    }
   ],
   "source": [
    "# Write your own code in this cell\n",
    "# True or False\n",
    "check =  mystring[-1]==\".\"   \n",
    "check = mystring.endswith(\".\")\n",
    "print(check)"
   ]
  },
  {
   "cell_type": "markdown",
   "metadata": {
    "id": "xTkklNNkSXx4"
   },
   "source": [
    "## 🍉🍉\n",
    "\n",
    "7.Print ```mystring``` and then \n",
    "Using index() method, identify the index of character: (**f**) in ```mystring```"
   ]
  },
  {
   "cell_type": "code",
   "execution_count": 14,
   "metadata": {
    "id": "AxrVZbCYeyut"
   },
   "outputs": [
    {
     "name": "stdout",
     "output_type": "stream",
     "text": [
      "friday, my second favorite f word.\n",
      "0\n"
     ]
    }
   ],
   "source": [
    "# Write your own code in this cell\n",
    "print(mystring)\n",
    "print(mystring.index(\"f\"))"
   ]
  },
  {
   "cell_type": "markdown",
   "metadata": {
    "id": "ftnmNs2-SYOD"
   },
   "source": [
    "## 🍉\n",
    "\n",
    "8.As you can see, in the previous exercise we had another **f** character in the ```mystring```, but we got the index of the first **f**. Can you find the index of the last **f** using a built-in method?"
   ]
  },
  {
   "cell_type": "code",
   "execution_count": 15,
   "metadata": {
    "id": "KJdbJD-Dg0Ed"
   },
   "outputs": [
    {
     "name": "stdout",
     "output_type": "stream",
     "text": [
      "27\n"
     ]
    }
   ],
   "source": [
    "# Write your own code in this cell\n",
    "print(mystring.rindex(\"f\"))"
   ]
  },
  {
   "cell_type": "markdown",
   "metadata": {
    "id": "zBka78gfjSSp"
   },
   "source": [
    "## 🍉\n",
    "\n",
    "9.identify the index of character: (**F**) in ```mystring``` ,and then Explain the outcome "
   ]
  },
  {
   "cell_type": "code",
   "execution_count": 16,
   "metadata": {
    "id": "2RGQq_QzjwM7"
   },
   "outputs": [
    {
     "ename": "ValueError",
     "evalue": "substring not found",
     "output_type": "error",
     "traceback": [
      "\u001b[0;31m---------------------------------------------------------------------------\u001b[0m",
      "\u001b[0;31mValueError\u001b[0m                                Traceback (most recent call last)",
      "\u001b[0;32m/tmp/ipykernel_8344/2219664554.py\u001b[0m in \u001b[0;36m<module>\u001b[0;34m\u001b[0m\n\u001b[1;32m      1\u001b[0m \u001b[0;31m# Write your own code in this cell\u001b[0m\u001b[0;34m\u001b[0m\u001b[0;34m\u001b[0m\u001b[0;34m\u001b[0m\u001b[0m\n\u001b[1;32m      2\u001b[0m \u001b[0;34m\u001b[0m\u001b[0m\n\u001b[0;32m----> 3\u001b[0;31m \u001b[0mmystring\u001b[0m\u001b[0;34m.\u001b[0m\u001b[0mindex\u001b[0m\u001b[0;34m(\u001b[0m\u001b[0;34m\"F\"\u001b[0m\u001b[0;34m)\u001b[0m\u001b[0;34m\u001b[0m\u001b[0;34m\u001b[0m\u001b[0m\n\u001b[0m",
      "\u001b[0;31mValueError\u001b[0m: substring not found"
     ]
    }
   ],
   "source": [
    "# Write your own code in this cell\n",
    "\n",
    "mystring.index(\"F\")\n",
    "#raises an error when the phrase is not found"
   ]
  },
  {
   "cell_type": "markdown",
   "metadata": {
    "id": "oK2gnCFVmqEn"
   },
   "source": [
    "## 🍉\n",
    "\n",
    "10.Using ```find()``` method, identify the index of character: **f** and **F** in ```mystring``` and compare the results with the previous exercise. "
   ]
  },
  {
   "cell_type": "code",
   "execution_count": 19,
   "metadata": {
    "id": "mwxchCBNmswL"
   },
   "outputs": [
    {
     "name": "stdout",
     "output_type": "stream",
     "text": [
      "0\n",
      "-1\n"
     ]
    }
   ],
   "source": [
    "# Write your own code in this cell\n",
    "print(mystring.find(\"f\"))\n",
    "print(mystring.find(\"F\"))\n",
    "#does not raise an error and instead returns -1"
   ]
  },
  {
   "cell_type": "markdown",
   "metadata": {
    "id": "TEdOZ0bdSYqI"
   },
   "source": [
    "## 🍉\n",
    "\n",
    "11.Take a look at the following string and then make the string so that everything is properly and first letter is capital with one function."
   ]
  },
  {
   "cell_type": "code",
   "execution_count": 21,
   "metadata": {
    "id": "StxC-ueih6KC"
   },
   "outputs": [
    {
     "name": "stdout",
     "output_type": "stream",
     "text": [
      "I didn’t fall down, i did atttck the floor, though.\n"
     ]
    }
   ],
   "source": [
    "mystring = \"i DiDn’T fAll dOwN, i DId aTtTCk thE fLOor, tHough.\"\n",
    "mystring = mystring.capitalize() #cool\n",
    "print(mystring)"
   ]
  },
  {
   "cell_type": "markdown",
   "metadata": {
    "id": "DBog1shUSZBF"
   },
   "source": [
    "## 🍉🍉\n",
    "\n",
    "12.Which character occur more often in the ```mystring```? \"e\" or \"o\" ? .Within the print function, print both counts."
   ]
  },
  {
   "cell_type": "code",
   "execution_count": 22,
   "metadata": {
    "id": "6s1Jnyx9k6ZS"
   },
   "outputs": [
    {
     "name": "stdout",
     "output_type": "stream",
     "text": [
      "count of e is:  13  count of o is:  6\n"
     ]
    }
   ],
   "source": [
    "# Write your own code in this cell\n",
    "mystring = \"A jellyfish has existed as a species for 500 million years, surviving just fine without a brain. That gives hope to quite a few people.\"\n",
    "count_e = mystring.count(\"e\")\n",
    "count_o = mystring.count(\"o\")\n",
    "print(\"count of e is: \", count_e , \" count of o is: \", count_o)"
   ]
  },
  {
   "cell_type": "markdown",
   "metadata": {
    "id": "E8NV-xh5SZXl"
   },
   "source": [
    "## 🍉🍉\n",
    "\n",
    "13.Using the print function, print the types of two given variables and print the length of ```number1```?"
   ]
  },
  {
   "cell_type": "code",
   "execution_count": 23,
   "metadata": {
    "id": "2PR0j_TCprnu"
   },
   "outputs": [
    {
     "name": "stdout",
     "output_type": "stream",
     "text": [
      "type of 1 is <class 'str'> type of num 2 is <class 'float'> and length of number 1 is 5\n"
     ]
    }
   ],
   "source": [
    "number1 = \"99.41\"\n",
    "number2 = 99.41\n",
    "print(f'type of 1 is {type(number1)} type of num 2 is {type(number2)} and length of number 1 is {len(number1)}')"
   ]
  },
  {
   "cell_type": "markdown",
   "metadata": {
    "id": "vkfj6OeOSZzz"
   },
   "source": [
    "## 🌶️\n",
    "\n",
    "14.Convert 99.41 to a string. Then add $ sign to this string and assign the result to the ```str``` variable and then print ```str```.\n",
    "Can you explain the result? "
   ]
  },
  {
   "cell_type": "code",
   "execution_count": 28,
   "metadata": {
    "id": "VJS0jMijqokb"
   },
   "outputs": [
    {
     "ename": "TypeError",
     "evalue": "'str' object is not callable",
     "output_type": "error",
     "traceback": [
      "\u001b[0;31m---------------------------------------------------------------------------\u001b[0m",
      "\u001b[0;31mTypeError\u001b[0m                                 Traceback (most recent call last)",
      "\u001b[0;32m/tmp/ipykernel_8344/686901733.py\u001b[0m in \u001b[0;36m<module>\u001b[0;34m\u001b[0m\n\u001b[1;32m      1\u001b[0m \u001b[0mnumber2\u001b[0m \u001b[0;34m=\u001b[0m \u001b[0;36m99.41\u001b[0m\u001b[0;34m\u001b[0m\u001b[0;34m\u001b[0m\u001b[0m\n\u001b[0;32m----> 2\u001b[0;31m \u001b[0mstr\u001b[0m \u001b[0;34m=\u001b[0m \u001b[0mstr\u001b[0m\u001b[0;34m(\u001b[0m\u001b[0mnumber2\u001b[0m\u001b[0;34m)\u001b[0m \u001b[0;34m+\u001b[0m\u001b[0;34m\"$\"\u001b[0m\u001b[0;34m\u001b[0m\u001b[0;34m\u001b[0m\u001b[0m\n\u001b[0m\u001b[1;32m      3\u001b[0m \u001b[0mprint\u001b[0m\u001b[0;34m(\u001b[0m\u001b[0mstr\u001b[0m\u001b[0;34m)\u001b[0m\u001b[0;34m\u001b[0m\u001b[0;34m\u001b[0m\u001b[0m\n\u001b[1;32m      4\u001b[0m \u001b[0;34m\u001b[0m\u001b[0m\n\u001b[1;32m      5\u001b[0m \u001b[0;31m#because we used a name that was reserved in python\u001b[0m\u001b[0;34m\u001b[0m\u001b[0;34m\u001b[0m\u001b[0;34m\u001b[0m\u001b[0m\n",
      "\u001b[0;31mTypeError\u001b[0m: 'str' object is not callable"
     ]
    }
   ],
   "source": [
    "number2 = 99.41\n",
    "str = str(number2) +\"$\"\n",
    "print(str)\n",
    "\n",
    "#because we used a name that was reserved in python"
   ]
  },
  {
   "cell_type": "code",
   "execution_count": null,
   "metadata": {},
   "outputs": [],
   "source": []
  },
  {
   "cell_type": "code",
   "execution_count": null,
   "metadata": {},
   "outputs": [],
   "source": []
  }
 ],
 "metadata": {
  "colab": {
   "name": "03-PyExc.ipynb",
   "provenance": []
  },
  "kernelspec": {
   "display_name": "Python 3 (ipykernel)",
   "language": "python",
   "name": "python3"
  },
  "language_info": {
   "codemirror_mode": {
    "name": "ipython",
    "version": 3
   },
   "file_extension": ".py",
   "mimetype": "text/x-python",
   "name": "python",
   "nbconvert_exporter": "python",
   "pygments_lexer": "ipython3",
   "version": "3.9.6"
  }
 },
 "nbformat": 4,
 "nbformat_minor": 4
}
