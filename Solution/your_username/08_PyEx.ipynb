{
 "cells": [
  {
   "cell_type": "markdown",
   "metadata": {
    "id": "blUcYT9QvFR3"
   },
   "source": [
    "# 08 - Beginner Exercises\n",
    "\n",
    "\n",
    "*   Defining Functions\n"
   ]
  },
  {
   "cell_type": "markdown",
   "metadata": {
    "id": "rqkAAQ0xvVjJ"
   },
   "source": [
    "## 🍳🍳🍳\n",
    "1.Define a function named **```myfunc```** which will print **\"Hello World!\"** "
   ]
  },
  {
   "cell_type": "code",
   "execution_count": 1,
   "metadata": {
    "id": "OlCfC5bIvUe_"
   },
   "outputs": [],
   "source": [
    "# Write your own code in this cell \n",
    "\n",
    "def myfunc():\n",
    "    print(\"Hello World!\")"
   ]
  },
  {
   "cell_type": "markdown",
   "metadata": {
    "id": "Ci7IomPSvsDP"
   },
   "source": [
    "## 🍳🍳🍳 \n",
    "2.Now, assign **```myfunc```** to variable **```myvar```** and then print **```myvar```**.\n",
    "Let's see what happens. "
   ]
  },
  {
   "cell_type": "code",
   "execution_count": 5,
   "metadata": {
    "id": "IxtmtmUtv1bV"
   },
   "outputs": [
    {
     "name": "stdout",
     "output_type": "stream",
     "text": [
      "<function myfunc at 0x7ffac4585430>\n",
      "Hello World\n",
      "None\n"
     ]
    }
   ],
   "source": [
    "# Write your own code in this cell \n",
    "def myfunc():\n",
    "    print(\"Hello World\")\n",
    "\n",
    "myvar = myfunc\n",
    "\n",
    "print(myvar)\n",
    "print(myfunc())"
   ]
  },
  {
   "cell_type": "markdown",
   "metadata": {
    "id": "YCp_vHzrvshU"
   },
   "source": [
    "## 🍳🍳🍳\n",
    "3.Define the same **```myfunc```** function once more, but this time it should ***return*** \"Hello, World!\" instead of simply printing it.  "
   ]
  },
  {
   "cell_type": "code",
   "execution_count": 8,
   "metadata": {
    "id": "6E40sMtzFmB7"
   },
   "outputs": [
    {
     "name": "stdout",
     "output_type": "stream",
     "text": [
      "Hello World\n"
     ]
    }
   ],
   "source": [
    "# Write your own code in this cell \n",
    "def myfunc():\n",
    "    return \"Hello World\"\n",
    "print(myfunc())"
   ]
  },
  {
   "cell_type": "markdown",
   "metadata": {
    "id": "FAqoBI6gvs4B"
   },
   "source": [
    "## 🍳🍳🍳\n",
    "4.Make a function called **```myfunc```** that prints and returns \"Hello World!\" "
   ]
  },
  {
   "cell_type": "code",
   "execution_count": 9,
   "metadata": {
    "id": "JSqJcpAfGduO"
   },
   "outputs": [],
   "source": [
    "# Write your own code in this cell \n",
    "def myfunc():\n",
    "    print(\"Hello World\")\n",
    "    return \"Hello World\""
   ]
  },
  {
   "cell_type": "markdown",
   "metadata": {
    "id": "Ov2nxJGEvuNK"
   },
   "source": [
    "## 🍳🍳🍳\n",
    "5.Create a function named **```not_found```** which always returns the number: 404\n",
    " \n"
   ]
  },
  {
   "cell_type": "code",
   "execution_count": 10,
   "metadata": {
    "id": "IwsSujyIv5UJ"
   },
   "outputs": [],
   "source": [
    "# Write your own code in this cell \n",
    "def not_found():\n",
    "    return 404\n"
   ]
  },
  {
   "cell_type": "markdown",
   "metadata": {
    "id": "zvbiodz0vuik"
   },
   "source": [
    "## 🍳🍳\n",
    "6.Create a function that takes a list as input, reverses the order of the elements in the list, and returns it as output. Use the ```range()``` function to create a list of numbers from 1 to 100 and give it as input to the function you created.\n",
    " \n"
   ]
  },
  {
   "cell_type": "code",
   "execution_count": 13,
   "metadata": {
    "id": "9XWlEy3Rv5_-"
   },
   "outputs": [
    {
     "name": "stdout",
     "output_type": "stream",
     "text": [
      "[99, 98, 97, 96, 95, 94, 93, 92, 91, 90, 89, 88, 87, 86, 85, 84, 83, 82, 81, 80, 79, 78, 77, 76, 75, 74, 73, 72, 71, 70, 69, 68, 67, 66, 65, 64, 63, 62, 61, 60, 59, 58, 57, 56, 55, 54, 53, 52, 51, 50, 49, 48, 47, 46, 45, 44, 43, 42, 41, 40, 39, 38, 37, 36, 35, 34, 33, 32, 31, 30, 29, 28, 27, 26, 25, 24, 23, 22, 21, 20, 19, 18, 17, 16, 15, 14, 13, 12, 11, 10, 9, 8, 7, 6, 5, 4, 3, 2, 1]\n"
     ]
    }
   ],
   "source": [
    "# Write your own code in this cell \n",
    "def f(list1):\n",
    "    return list1[::-1]\n",
    "l = list(range(1,100))\n",
    "print(f(l))"
   ]
  },
  {
   "cell_type": "markdown",
   "metadata": {
    "id": "5s3h3Xuivu5_"
   },
   "source": [
    "## 🍳🍳 \n",
    "7.Create a function called **```myfunc```** that will ask the user for his\\her name and then print **\"Hello !, Name\"**   "
   ]
  },
  {
   "cell_type": "code",
   "execution_count": 16,
   "metadata": {
    "id": "DIbjxMfmv7LF"
   },
   "outputs": [
    {
     "name": "stdout",
     "output_type": "stream",
     "text": [
      "Enter your name.Darya\n",
      "Hello !, Darya\n"
     ]
    }
   ],
   "source": [
    "# Write your own code in this cell \n",
    "\n",
    "def myfunc():\n",
    "    name = input(\"Enter your name.\")\n",
    "    print(f\"Hello !, {name}\")\n",
    "myfunc()"
   ]
  },
  {
   "cell_type": "markdown",
   "metadata": {
    "id": "mBlaZEdPvtid"
   },
   "source": [
    "## 🍳 \n",
    "8.Mosi has a large number of quadratic equations  ($ax^{2} + bx + c =0$)that he needs to solve quickly and has asked you to use your Python knowledge to assist him. \n",
    "As you know, the roots of the quadratic equation can be obtained using the following formula: \n",
    "$$x= \\frac{-b \\pm \\sqrt{ \\Delta } }{2a} $$\n",
    "\n",
    "If the delta is a number greater than zero ($\\Delta  > 0$), our quadratic equation has two roots as follows: \n",
    "$$x_{1}= \\frac{-b+ \\sqrt{ \\Delta } }{2a} $$\n",
    "$$x_{2}= \\frac{-b- \\sqrt{ \\Delta } }{2a} $$\n",
    "We also know that Delta equals: \n",
    "$$ \\Delta =  b^{2} - 4ac$$\n",
    "According to the above description, write a function called Delta that takes the three values of a, b, and c and returns the delta. \n",
    "\n",
    "Then create another function called a quadratic that takes the three values of a, b, and c, and use both the delta function and the formulas we know to get both roots of the quadratic equation.\n",
    "Then return the results as a tuple  ($x_{1}, x_{2}$).\n",
    "\n",
    "\n"
   ]
  },
  {
   "cell_type": "code",
   "execution_count": 19,
   "metadata": {
    "id": "X8F0KXPzv8h-"
   },
   "outputs": [
    {
     "name": "stdout",
     "output_type": "stream",
     "text": [
      "(3.0, 2.0)\n"
     ]
    }
   ],
   "source": [
    "# Write your own code in this cell \n",
    "\n",
    "def delta(a, b, c):\n",
    "    return b ** 2 - 4 * a * c\n",
    "\n",
    "def quadratic(a, b, c):\n",
    "    d = delta(a, b, c)\n",
    "    if d > 0:\n",
    "        x1 = (- b + d ** 0.5) / (2 * a)\n",
    "        x2 = (- b - d ** 0.5) / (2 * a)\n",
    "        return (x1, x2)\n",
    "\n",
    "print(quadratic(1, -5, 6))"
   ]
  },
  {
   "cell_type": "markdown",
   "metadata": {
    "id": "mf1vZvUnmI_d"
   },
   "source": [
    "Run the following cell after the previous cell to see if the function you wrote above works properly. \n",
    "With this example we check the function. \n",
    "$$13x^{2} + 661x - 71 =0$$"
   ]
  },
  {
   "cell_type": "code",
   "execution_count": 20,
   "metadata": {
    "id": "xbRBsk4Dnr6b"
   },
   "outputs": [
    {
     "name": "stdout",
     "output_type": "stream",
     "text": [
      "Your function works perfectly. \n"
     ]
    }
   ],
   "source": [
    "# Run this cell\n",
    "x = quadratic(13, 661, -71)\n",
    "ep = 1e-6\n",
    "if abs(sum(x) - sum([0.10718705,-50.9533408])) < ep:\n",
    "    print(\"Your function works perfectly. \") "
   ]
  },
  {
   "cell_type": "markdown",
   "metadata": {
    "id": "kqSVPFDkvtNs"
   },
   "source": [
    "## 🍳\n",
    "9.Create a function that finds the nth number in the triangular numbers sequence . Then print the 1000th member of this sequence. \n",
    "$T_{0}=0$, $T_{1}=1$, $T_{2}=3$, $T_{3}=6$, $T_{4}=10$, $T_{5}=15$, $T_{6}=21$, $T_{7}=28$, $T_{8}=36 ...$ \n",
    "\n",
    "**```Wikipedi:```** [Triangular number](https://en.wikipedia.org/wiki/Triangular_number)\n"
   ]
  },
  {
   "cell_type": "code",
   "execution_count": 22,
   "metadata": {
    "id": "xhaYyMRov3a4"
   },
   "outputs": [
    {
     "name": "stdout",
     "output_type": "stream",
     "text": [
      "500500.0\n"
     ]
    }
   ],
   "source": [
    "# Write your own code in this cell \n",
    "def traingular_n(n):\n",
    "    return n * (n + 1) / 2\n",
    "print(traingular_n(1000))"
   ]
  },
  {
   "cell_type": "code",
   "execution_count": null,
   "metadata": {},
   "outputs": [],
   "source": []
  }
 ],
 "metadata": {
  "colab": {
   "collapsed_sections": [],
   "name": "08-PyEx.ipynb",
   "provenance": []
  },
  "kernelspec": {
   "display_name": "Python 3 (ipykernel)",
   "language": "python",
   "name": "python3"
  },
  "language_info": {
   "codemirror_mode": {
    "name": "ipython",
    "version": 3
   },
   "file_extension": ".py",
   "mimetype": "text/x-python",
   "name": "python",
   "nbconvert_exporter": "python",
   "pygments_lexer": "ipython3",
   "version": "3.9.6"
  }
 },
 "nbformat": 4,
 "nbformat_minor": 4
}
