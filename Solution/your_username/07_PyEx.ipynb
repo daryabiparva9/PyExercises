{
 "cells": [
  {
   "cell_type": "markdown",
   "metadata": {
    "id": "blUcYT9QvFR3"
   },
   "source": [
    "# 07 - Beginner Exercises\n",
    "\n",
    "\n",
    "*   len()\n",
    "*   sort()\n",
    "*   sorted() \n",
    "*   input() \n",
    "*   range()\n"
   ]
  },
  {
   "cell_type": "markdown",
   "metadata": {},
   "source": [
    "len for strings?\n",
    "sort vs sorted? sorted returns a new list and the previous remains unchanged"
   ]
  },
  {
   "cell_type": "markdown",
   "metadata": {
    "id": "rqkAAQ0xvVjJ"
   },
   "source": [
    "## 🎃🎃🎃\n",
    "1.Determine the number of elements in  ```mylist```.  "
   ]
  },
  {
   "cell_type": "code",
   "execution_count": 1,
   "metadata": {
    "id": "OlCfC5bIvUe_"
   },
   "outputs": [
    {
     "data": {
      "text/plain": [
       "6"
      ]
     },
     "execution_count": 1,
     "metadata": {},
     "output_type": "execute_result"
    }
   ],
   "source": [
    "# Write your own code in this cell \n",
    "mylist = [2, 3/2, 4/3, 5/4, 6/5, 7/6]\n",
    "len(mylist)"
   ]
  },
  {
   "cell_type": "markdown",
   "metadata": {
    "id": "Ci7IomPSvsDP"
   },
   "source": [
    "## 🎃🎃🎃 \n",
    "2.Determine the length of the string shown below. \n",
    "Is the count of characters you see in ```mystring``` actually equal to ```mystring```'s len()? "
   ]
  },
  {
   "cell_type": "code",
   "execution_count": 4,
   "metadata": {
    "id": "IxtmtmUtv1bV"
   },
   "outputs": [
    {
     "data": {
      "text/plain": [
       "9"
      ]
     },
     "execution_count": 4,
     "metadata": {},
     "output_type": "execute_result"
    }
   ],
   "source": [
    "# Write your own code in this cell \n",
    "mystring = 'it\\'s hot!'\n",
    "len(mystring)\n",
    "#no\n",
    "#it did not count space"
   ]
  },
  {
   "cell_type": "markdown",
   "metadata": {
    "id": "YCp_vHzrvshU"
   },
   "source": [
    "## 🎃🎃🎃 \n",
    "3.Using the len() function, get the final entry of the ```mylist```. "
   ]
  },
  {
   "cell_type": "code",
   "execution_count": 7,
   "metadata": {
    "id": "6E40sMtzFmB7"
   },
   "outputs": [
    {
     "data": {
      "text/plain": [
       "-29"
      ]
     },
     "execution_count": 7,
     "metadata": {},
     "output_type": "execute_result"
    }
   ],
   "source": [
    "# Write your own code in this cell \n",
    "mylist = [3, -5, 7, -9, 11, -13, 15, -17, 19, -21, 23, -25, 27, -29]\n",
    "mylist[len(mylist)-1]"
   ]
  },
  {
   "cell_type": "markdown",
   "metadata": {
    "id": "FAqoBI6gvs4B"
   },
   "source": [
    "## 🎃🎃🎃  \n",
    "4.The following list corresponds to Rostam, the hero of Shahnameh.\n",
    "The final item on this list is a list of his children.\n",
    "What was the name of Rostam's last kid, and how many letters did it have?\n",
    "(use reverse indexing) "
   ]
  },
  {
   "cell_type": "code",
   "execution_count": 8,
   "metadata": {
    "id": "JSqJcpAfGduO"
   },
   "outputs": [
    {
     "data": {
      "text/plain": [
       "7"
      ]
     },
     "execution_count": 8,
     "metadata": {},
     "output_type": "execute_result"
    }
   ],
   "source": [
    "# Write your own code in this cell \n",
    "mylist = [\"Rostam\", \"Iranian\", \"Zal\" , \"Rudaba\", [\"Sohrab\", \"Faramarz\", \"Siyavash\", \"Goshasp\"]]\n",
    "len(mylist[-1][-1])"
   ]
  },
  {
   "cell_type": "markdown",
   "metadata": {
    "id": "Ov2nxJGEvuNK"
   },
   "source": [
    "## 🎃🎃🎃\n",
    "5.1 Sort ```mylist``` in ascending order with ```sort()``` method.\n",
    "\n",
    "5.2 Sort ```mylist``` in descending order with ```sort()``` method.\n",
    " \n"
   ]
  },
  {
   "cell_type": "code",
   "execution_count": 12,
   "metadata": {
    "id": "IwsSujyIv5UJ"
   },
   "outputs": [
    {
     "name": "stdout",
     "output_type": "stream",
     "text": [
      "[0, 1, 1, 2, 3, 5, 8, 13, 21, 34, 55, 89, 144]\n",
      "[144, 89, 55, 34, 21, 13, 8, 5, 3, 2, 1, 1, 0]\n"
     ]
    }
   ],
   "source": [
    "# Write your own code in this cell \n",
    "mylist = [0, 34, 1, 13, 8, 21, 55, 3, 1, 5, 89, 144, 2]\n",
    "# Ascending order\n",
    "mylist.sort()\n",
    "print(mylist)\n",
    "\n",
    "# Descending order\n",
    "mylist.sort(reverse = True)\n",
    "print(mylist)\n"
   ]
  },
  {
   "cell_type": "markdown",
   "metadata": {
    "id": "zvbiodz0vuik"
   },
   "source": [
    "## 🎃🎃\n",
    "6.1 Sort ```mylist``` in ascending order with ```sorted()``` function.\n",
    "\n",
    "6.2 Sort ```mylist``` in descending order with ```sorted()``` function.\n",
    " \n"
   ]
  },
  {
   "cell_type": "code",
   "execution_count": 13,
   "metadata": {
    "id": "9XWlEy3Rv5_-"
   },
   "outputs": [
    {
     "name": "stdout",
     "output_type": "stream",
     "text": [
      "[0, 1, 1, 2, 3, 5, 8, 13, 21, 34, 55, 89, 144]\n",
      "[144, 89, 55, 34, 21, 13, 8, 5, 3, 2, 1, 1, 0]\n"
     ]
    }
   ],
   "source": [
    "# Write your own code in this cell \n",
    "mylist = [0, 34, 1, 13, 8, 21, 55, 3, 1, 5, 89, 144, 2]\n",
    "# Ascending order\n",
    "mylist = sorted(mylist)\n",
    "print(mylist)\n",
    "\n",
    "# Descending order\n",
    "mylist = sorted(mylist, reverse = True)\n",
    "print(mylist)"
   ]
  },
  {
   "cell_type": "markdown",
   "metadata": {
    "id": "5s3h3Xuivu5_"
   },
   "source": [
    "## 🌶️ \n",
    "7.Print the dictionary keys in alphabetical order.  "
   ]
  },
  {
   "cell_type": "code",
   "execution_count": 17,
   "metadata": {
    "id": "DIbjxMfmv7LF"
   },
   "outputs": [
    {
     "name": "stdout",
     "output_type": "stream",
     "text": [
      "['POB', 'POD', 'Spouse', 'delivery', 'father', 'grandfather', 'mother', 'name', 'nationality']\n"
     ]
    }
   ],
   "source": [
    "# Write your own code in this cell \n",
    "mydict = {\"name\": \"Rostam\", \"nationality\": \"Turanian\",\n",
    "          \"father\": \"Zal\" ,\"mother\": \"Rudaabeh\", \"Spouse\": \"Tahmineh\",\n",
    "          \"grandfather\": \"Sam\", \"delivery\": \"C-Section\", \"POB\": \"Zabol\",\n",
    "           \"POD\" : \"Kabul\",}\n",
    "print(sorted(mydict.keys()))"
   ]
  },
  {
   "cell_type": "markdown",
   "metadata": {
    "id": "kqSVPFDkvtNs"
   },
   "source": [
    "## 🎃🎃🎃\n",
    "8.Using ```input()``` function ask for **```user's name```** and then print **\"Oh hi ```user's name```!\"** \n"
   ]
  },
  {
   "cell_type": "code",
   "execution_count": 18,
   "metadata": {
    "id": "xhaYyMRov3a4"
   },
   "outputs": [
    {
     "name": "stdout",
     "output_type": "stream",
     "text": [
      "please enter your name: Darya\n",
      "Oh hi Darya!\n"
     ]
    }
   ],
   "source": [
    "# Write your own code in this cell \n",
    "name = input(\"please enter your name: \")\n",
    "print(f'Oh hi {name}!')"
   ]
  },
  {
   "cell_type": "markdown",
   "metadata": {
    "id": "mBlaZEdPvtid"
   },
   "source": [
    "## 🎃 \n",
    "9.This time ask the user , **\"Please enter your age.\"**  Then multiply his/her age by **0.53** and save the result in a variable called ```age_in_mars``` and then print \"You are ```age_in_mars``` years old on Mars \". "
   ]
  },
  {
   "cell_type": "code",
   "execution_count": 19,
   "metadata": {
    "id": "X8F0KXPzv8h-"
   },
   "outputs": [
    {
     "name": "stdout",
     "output_type": "stream",
     "text": [
      "Please enter your age.25\n",
      "You are 13.25 years old on Mars\n"
     ]
    }
   ],
   "source": [
    "# Write your own code in this cell \n",
    "\n",
    "age = input(\"Please enter your age.\")\n",
    "age_in_mars = 0.53 * int(age)\n",
    "print(f\"You are {age_in_mars} years old on Mars\")"
   ]
  },
  {
   "cell_type": "markdown",
   "metadata": {
    "id": "TuevjVym7Dp_"
   },
   "source": [
    "## 🎃🎃🎃\n",
    "\n",
    "10.Find the multiples of two, three, and five that are less than 100 and store them in the variables m2, m3 and m5, respectively, using the range() function.  "
   ]
  },
  {
   "cell_type": "code",
   "execution_count": 23,
   "metadata": {
    "id": "k_Hd_HxL7Wpv"
   },
   "outputs": [
    {
     "name": "stdout",
     "output_type": "stream",
     "text": [
      "[0, 2, 4, 6, 8, 10, 12, 14, 16, 18, 20, 22, 24, 26, 28, 30, 32, 34, 36, 38, 40, 42, 44, 46, 48, 50, 52, 54, 56, 58, 60, 62, 64, 66, 68, 70, 72, 74, 76, 78, 80, 82, 84, 86, 88, 90, 92, 94, 96, 98]\n",
      "[0, 3, 6, 9, 12, 15, 18, 21, 24, 27, 30, 33, 36, 39, 42, 45, 48, 51, 54, 57, 60, 63, 66, 69, 72, 75, 78, 81, 84, 87, 90, 93, 96, 99]\n",
      "[0, 5, 10, 15, 20, 25, 30, 35, 40, 45, 50, 55, 60, 65, 70, 75, 80, 85, 90, 95]\n"
     ]
    }
   ],
   "source": [
    "# Write your own code in this cell \n",
    "m2 = [i for i in range(100) if i % 2 == 0 ]\n",
    "print(m2)\n",
    "\n",
    "m3 = [i for i in range(100) if i % 3 == 0 ]\n",
    "print(m3)\n",
    "\n",
    "m5 = [i for i in range(100) if i % 5 == 0 ]\n",
    "print(m5)"
   ]
  },
  {
   "cell_type": "markdown",
   "metadata": {
    "id": "cTm8PURCqple"
   },
   "source": [
    "## 🎃🎃🎃\n",
    "\n",
    "11.Can you make a list with descending steps of 50 from 1900 to 1300 as a result, the number 1300 is also included in the list.  "
   ]
  },
  {
   "cell_type": "code",
   "execution_count": 24,
   "metadata": {
    "id": "-M7X74x-r2lI"
   },
   "outputs": [],
   "source": [
    "# Write your own code in this cell \n",
    "r = range(1900, 1254, -50)"
   ]
  },
  {
   "cell_type": "code",
   "execution_count": 25,
   "metadata": {},
   "outputs": [
    {
     "data": {
      "text/plain": [
       "[1900, 1850, 1800, 1750, 1700, 1650, 1600, 1550, 1500, 1450, 1400, 1350, 1300]"
      ]
     },
     "execution_count": 25,
     "metadata": {},
     "output_type": "execute_result"
    }
   ],
   "source": [
    "list(r)"
   ]
  },
  {
   "cell_type": "code",
   "execution_count": null,
   "metadata": {},
   "outputs": [],
   "source": []
  }
 ],
 "metadata": {
  "colab": {
   "collapsed_sections": [],
   "name": "07-PyEx.ipynb",
   "provenance": []
  },
  "kernelspec": {
   "display_name": "Python 3 (ipykernel)",
   "language": "python",
   "name": "python3"
  },
  "language_info": {
   "codemirror_mode": {
    "name": "ipython",
    "version": 3
   },
   "file_extension": ".py",
   "mimetype": "text/x-python",
   "name": "python",
   "nbconvert_exporter": "python",
   "pygments_lexer": "ipython3",
   "version": "3.9.6"
  }
 },
 "nbformat": 4,
 "nbformat_minor": 4
}
