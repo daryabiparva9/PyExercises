{
  "cells": [
    {
      "cell_type": "markdown",
      "metadata": {
        "id": "RWJ-LZvuPhcG"
      },
      "source": [
        "# 10 - Beginner Exercises \n",
        "*   format()\n",
        "*   F-String\n",
        "* sep= & end= KeywordArgument\n",
        "---\n",
        "\n"
      ]
    },
    {
      "cell_type": "markdown",
      "metadata": {
        "id": "XOF2AhOxPt3P"
      },
      "source": [
        "## ☕☕☕\n",
        "1.Using the **.format()** method, write code that takes the user's name and then displays the message **```\"Welcome to this program, user's name.\"```** "
      ]
    },
    {
      "cell_type": "code",
      "execution_count": 1,
      "metadata": {
        "id": "oNFW1pWUaeGz"
      },
      "outputs": [
        {
          "name": "stdout",
          "output_type": "stream",
          "text": [
            "Welcome to this program, Sina.\n"
          ]
        }
      ],
      "source": [
        "# Write your own code in this cell\n",
        "# Get user's name from user\n",
        "user_name = input(\"What is your name?: \")\n",
        "# Print Welcome message to user with user's name\n",
        "print(\"Welcome to this program, {0}.\".format(user_name))\n"
      ]
    },
    {
      "cell_type": "markdown",
      "metadata": {
        "id": "h9f0EwunRdb6"
      },
      "source": [
        "## ☕☕☕\n",
        "2.Write code similar to the previous exercise, but this time use **```F-String```**. \n",
        "which one is faster?"
      ]
    },
    {
      "cell_type": "code",
      "execution_count": 2,
      "metadata": {
        "id": "tRiBZ6PDSOKg"
      },
      "outputs": [
        {
          "name": "stdout",
          "output_type": "stream",
          "text": [
            "Welcome to this program, Sina.\n"
          ]
        }
      ],
      "source": [
        "# Write your own code in this cell\n",
        "# Get user's name from user\n",
        "user_name = input(\"What is your name?: \")\n",
        "# Print Welcome message to user with user's name\n",
        "print(f\"Welcome to this program, {user_name}.\")\n"
      ]
    },
    {
      "cell_type": "code",
      "execution_count": 3,
      "metadata": {},
      "outputs": [
        {
          "name": "stdout",
          "output_type": "stream",
          "text": [
            "Welcome to this program, Sina.\n",
            "--- 0.0006825923919677734 seconds ---\n",
            "Welcome to this program, Sina.\n",
            "--- 0.0014221668243408203 seconds ---\n"
          ]
        }
      ],
      "source": [
        "# Let's check which method is faster .format() or fstring\n",
        "from time import time\n",
        "user_name = \"Sina\"\n",
        "# .format() execution time calculation\n",
        "start_time_format = time()\n",
        "print(\"Welcome to this program, {0}.\".format(user_name))\n",
        "print(\"--- %s seconds ---\" % (time() - start_time_format))\n",
        "# fstring execution time calculation\n",
        "start_time_fstring = time()\n",
        "print(f\"Welcome to this program, {user_name}.\")\n",
        "print(\"--- %s seconds ---\" % (time() - start_time_fstring))\n"
      ]
    },
    {
      "cell_type": "markdown",
      "metadata": {
        "id": "xp320A8pTjSQ"
      },
      "source": [
        "##☕☕☕\n",
        "\n",
        "3.Write a code that uses the F-String to display the information in my Tupel descriptively.\n",
        "\n",
        "e.g.\n",
        "**Celine Marie Claudette Dion was born in Canada and currently, she is 53 years old.**"
      ]
    },
    {
      "cell_type": "code",
      "execution_count": 4,
      "metadata": {
        "id": "mhSTJurTT0jX"
      },
      "outputs": [
        {
          "name": "stdout",
          "output_type": "stream",
          "text": [
            "David Jon Gilmour is from United Kingdom and his height is 175 cm.\n"
          ]
        }
      ],
      "source": [
        "# Write your own code in this cell\n",
        "mytuple = (\"David Jon Gilmour\", 175, \"United Kingdom\")\n",
        "# Prit Data from tuple into a string\n",
        "print(f\"{mytuple[0]} is from {mytuple[2]} and his height is {mytuple[1]} cm.\")\n",
        "       "
      ]
    },
    {
      "cell_type": "markdown",
      "metadata": {
        "id": "OoDyHA3pbiiu"
      },
      "source": [
        "## ☕☕\n",
        "4. Using $sep=$ Keyword , print the information in the list below and separate the items with an **```\"-~-\"```**.  "
      ]
    },
    {
      "cell_type": "code",
      "execution_count": 5,
      "metadata": {
        "id": "HMwvj_K2dW1R"
      },
      "outputs": [
        {
          "name": "stdout",
          "output_type": "stream",
          "text": [
            "Paul David Hewson-~-Saeed Mohammadi-~-Aryana Sayeed\n"
          ]
        }
      ],
      "source": [
        "# Write your own code in this cell\n",
        "singers = [\"Paul David Hewson\", \"Saeed Mohammadi\" ,  \"Aryana Sayeed\"]\n",
        "# Print Singers name in one line and seperate them with -~-\n",
        "print(singers[0], singers[1], singers[2], sep=\"-~-\")\n",
        "\n",
        "       "
      ]
    },
    {
      "cell_type": "markdown",
      "metadata": {
        "id": "9BgGLq2CgUKN"
      },
      "source": [
        "## ☕☕\n",
        "5.Print the following Tupel information for each item separately. Then repeat the same thing again, but using $end= $ Keyword, put the **```\"---\"```** at the end of each item. Then interpret the results. "
      ]
    },
    {
      "cell_type": "code",
      "execution_count": 6,
      "metadata": {
        "id": "0O76EHrpgL03"
      },
      "outputs": [
        {
          "name": "stdout",
          "output_type": "stream",
          "text": [
            "Céline Marie Claudette Dion\n",
            "53\n",
            "Canada\n",
            "Céline Marie Claudette Dion---53---Canada---"
          ]
        }
      ],
      "source": [
        "# Write your own code in this cell\n",
        "C = (\"Céline Marie Claudette Dion\", 53, \"Canada\")\n",
        "#Do not use  end= Keyword\n",
        "print(C[0])\n",
        "print(C[1])\n",
        "print(C[2])\n",
        "#Use end= Keyword\n",
        "print(C[0], end=\"---\")\n",
        "print(C[1], end=\"---\")\n",
        "print(C[2], end=\"---\")\n",
        "       "
      ]
    },
    {
      "cell_type": "markdown",
      "metadata": {
        "id": "Uo3QtZBUg_I1"
      },
      "source": [
        "## ☕☕\n",
        "\n",
        "6.Using **```positional_arguments```** insert the information into  **```mytext```**, then print it.  "
      ]
    },
    {
      "cell_type": "code",
      "execution_count": 7,
      "metadata": {
        "id": "cHrl5sYRhl07"
      },
      "outputs": [
        {
          "name": "stdout",
          "output_type": "stream",
          "text": [
            "Darroudi’s paintings are defined as Surrealist works. She was able to combine\n",
            "the delicacy and romantic spirit of Persian paintings with the elements of \n",
            "Surrealism.Darroudi's first solo exhibition was held in Miami, Miami-Dade County, \n",
            "Florida, in 1958 at the invitation of the Florida State Art Center.\n"
          ]
        }
      ],
      "source": [
        "# Write your own code in this cell\n",
        "mytuple = (\"Darroudi\", \"Surrealist\", \"Miami\", \"1958\", \"Florida State Art Center\")\n",
        "\n",
        "mytext= \"{0}’s paintings are defined as {1} works. She was able to combine\\n\\\n",
        "the delicacy and romantic spirit of Persian paintings with the elements of \\n\\\n",
        "Surrealism.Darroudi's first solo exhibition was held in {2}, Miami-Dade County, \\n\\\n",
        "Florida, in {3} at the invitation of the {4}.\"\n",
        "\n",
        "print(mytext.format(*mytuple))"
      ]
    },
    {
      "cell_type": "markdown",
      "metadata": {
        "id": "MJXGrJNWktXR"
      },
      "source": [
        "**Can you explain why we used ```*mytuple``` instead of ```mytuple``` above?** "
      ]
    },
    {
      "cell_type": "markdown",
      "metadata": {
        "id": "-3Ml2IPvju7m"
      },
      "source": [
        "## ☕☕\n",
        "\n",
        "7.Using **```keyword_arguments```** complete the following phrase."
      ]
    },
    {
      "cell_type": "code",
      "execution_count": 8,
      "metadata": {
        "id": "5GJ10lCUfclK"
      },
      "outputs": [
        {
          "name": "stdout",
          "output_type": "stream",
          "text": [
            "The area of a circle with radius 5 is equal to 78.5\n"
          ]
        }
      ],
      "source": [
        "# Write your own code in this cell\n",
        "print(\"The area of a circle with radius {r} is equal to {area}\".format(r=5, area=5*5*3.14))"
      ]
    },
    {
      "cell_type": "markdown",
      "metadata": {
        "id": "pWrAPLK5qf-R"
      },
      "source": [
        "## ☕\n",
        "\n",
        "9.You are given the number $π$ to a precision of 20 decimal points.\n",
        "Please print these numbers with two decimal ponit."
      ]
    },
    {
      "cell_type": "code",
      "execution_count": 9,
      "metadata": {
        "id": "M53OtPCZqlrI"
      },
      "outputs": [
        {
          "name": "stdout",
          "output_type": "stream",
          "text": [
            "3.14\n"
          ]
        }
      ],
      "source": [
        "# Write your own code in this cell\n",
        "pi = 3.14159265358979323846\n",
        "print(f\"{pi:.2f}\")\n"
      ]
    },
    {
      "cell_type": "markdown",
      "metadata": {
        "id": "nCmjky1IqgQF"
      },
      "source": [
        "## ☕\n",
        "\n",
        "10.Please print the numbers below in this format. \n",
        "$$3.140000$$\n",
        "$$1.618000$$\n",
        "$$6.626068$$"
      ]
    },
    {
      "cell_type": "code",
      "execution_count": 10,
      "metadata": {
        "id": "sErWv5z8qmi8"
      },
      "outputs": [
        {
          "name": "stdout",
          "output_type": "stream",
          "text": [
            "3.140000\n",
            "1.618000\n",
            "6.626068\n"
          ]
        }
      ],
      "source": [
        "# Write your own code in this cell\n",
        "N = [3.14,1.618,6.626068]\n",
        "print(f\"{N[0]:.6f}\")\n",
        "print(f\"{N[1]:.6f}\")\n",
        "print(f\"{N[2]:.6f}\")\n"
      ]
    },
    {
      "cell_type": "markdown",
      "metadata": {
        "id": "HTTFKu88qgYI"
      },
      "source": [
        "## 🌶️\n",
        "\n",
        "11.Please print the numbers below in this format. \n",
        "\n",
        "005,421,241\n",
        "\n",
        "083,992,949\n",
        "\n",
        "331,002,651"
      ]
    },
    {
      "cell_type": "code",
      "execution_count": 11,
      "metadata": {
        "id": "js3i0A6nqnRu"
      },
      "outputs": [
        {
          "name": "stdout",
          "output_type": "stream",
          "text": [
            "005,421,241\n",
            "083,992,949\n",
            "331,002,651\n"
          ]
        }
      ],
      "source": [
        "# Write your own code in this cell\n",
        "N=[5421241,83992949,331002651]\n",
        "print(f'{f\"{N[0]:,d}\".zfill(11)}')\n",
        "print(f'{f\"{N[1]:,d}\".zfill(11)}')\n",
        "print(f'{f\"{N[2]:,d}\".zfill(11)}')"
      ]
    }
  ],
  "metadata": {
    "colab": {
      "collapsed_sections": [],
      "name": "10-PyEx.ipynb",
      "provenance": []
    },
    "kernelspec": {
      "display_name": "Python 3",
      "name": "python3"
    },
    "language_info": {
      "codemirror_mode": {
        "name": "ipython",
        "version": 3
      },
      "file_extension": ".py",
      "mimetype": "text/x-python",
      "name": "python",
      "nbconvert_exporter": "python",
      "pygments_lexer": "ipython3",
      "version": "3.9.7"
    }
  },
  "nbformat": 4,
  "nbformat_minor": 0
}
