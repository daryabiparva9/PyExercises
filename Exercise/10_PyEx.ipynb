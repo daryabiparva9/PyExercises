{
  "cells": [
    {
      "cell_type": "markdown",
      "metadata": {
        "id": "RWJ-LZvuPhcG"
      },
      "source": [
        "# 10 - Beginner Exercises \n",
        "*   format()\n",
        "*   F-String\n",
        "* sep= & end= KeywordArgument\n",
        "---\n",
        "\n"
      ]
    },
    {
      "cell_type": "markdown",
      "metadata": {
        "id": "XOF2AhOxPt3P"
      },
      "source": [
        "## ☕☕☕\n",
        "1.Using the **.format()** method, write code that takes the user's name and then displays the message **```\"Welcome to this program, user's name.\"```** "
      ]
    },
    {
      "cell_type": "code",
      "execution_count": null,
      "metadata": {
        "id": "oNFW1pWUaeGz"
      },
      "outputs": [],
      "source": [
        "# Write your own code in this cell\n",
        "\n",
        "\n"
      ]
    },
    {
      "cell_type": "markdown",
      "metadata": {
        "id": "h9f0EwunRdb6"
      },
      "source": [
        "## ☕☕☕\n",
        "2.Write code similar to the previous exercise, but this time use **```F-String```**. \n",
        "which one is faster?"
      ]
    },
    {
      "cell_type": "code",
      "execution_count": null,
      "metadata": {
        "id": "tRiBZ6PDSOKg"
      },
      "outputs": [],
      "source": [
        "# Write your own code in this cell\n"
      ]
    },
    {
      "cell_type": "markdown",
      "metadata": {
        "id": "xp320A8pTjSQ"
      },
      "source": [
        "##☕☕☕\n",
        "\n",
        "3.Write a code that uses the F-String to display the information in my Tupel descriptively.\n",
        "\n",
        "e.g.\n",
        "**Celine Marie Claudette Dion was born in Canada and currently, she is 53 years old.**"
      ]
    },
    {
      "cell_type": "code",
      "execution_count": null,
      "metadata": {
        "id": "mhSTJurTT0jX"
      },
      "outputs": [],
      "source": [
        "# Write your own code in this cell\n",
        "mytuple = (\"David Jon Gilmour\", 75, \"United Kingdom\")\n",
        "\n",
        "       "
      ]
    },
    {
      "cell_type": "markdown",
      "metadata": {
        "id": "OoDyHA3pbiiu"
      },
      "source": [
        "## ☕☕\n",
        "4. Using $sep=$ Keyword , print the information in the list below and separate the items with an **```\"-~-\"```**.  "
      ]
    },
    {
      "cell_type": "code",
      "execution_count": 4,
      "metadata": {
        "id": "HMwvj_K2dW1R"
      },
      "outputs": [],
      "source": [
        "# Write your own code in this cell\n",
        "singers = [\"Paul David Hewson\", \"Saeed Mohammadi\" ,  \"Aryana Sayeed\"]\n",
        "\n",
        "\n",
        "       "
      ]
    },
    {
      "cell_type": "markdown",
      "metadata": {
        "id": "9BgGLq2CgUKN"
      },
      "source": [
        "## ☕☕\n",
        "5.Print the following Tupel information for each item separately. Then repeat the same thing again, but using $end= $ Keyword, put the **```\"---\"```** at the end of each item. Then interpret the results. "
      ]
    },
    {
      "cell_type": "code",
      "execution_count": null,
      "metadata": {
        "id": "0O76EHrpgL03"
      },
      "outputs": [],
      "source": [
        "# Write your own code in this cell\n",
        "C = (\"Céline Marie Claudette Dion\", 53, \"Canad\")\n",
        "#Do not use  end= Keyword\n",
        "print()\n",
        "print()\n",
        "print()\n",
        "#Use end= Keyword\n",
        "print()\n",
        "print()\n",
        "print()\n",
        "       "
      ]
    },
    {
      "cell_type": "markdown",
      "metadata": {
        "id": "Uo3QtZBUg_I1"
      },
      "source": [
        "## ☕☕\n",
        "\n",
        "6.Using **```positional_arguments```** insert the information into  **```mytext```**, then print it.  "
      ]
    },
    {
      "cell_type": "code",
      "execution_count": null,
      "metadata": {
        "id": "cHrl5sYRhl07"
      },
      "outputs": [],
      "source": [
        "# Write your own code in this cell\n",
        "mytuple = (\"The history of art and art criticism\",\"Florida\",\n",
        "           \"Surrealist\",\"Miami\", \"Darroudi\",\"1958\")\n",
        "\n",
        "mytext= \"{}’s paintings are defined as {} works.\\nShe is able to\\\n",
        "combine the delicacy and romantic spirit of Persian paintings with\\nthe \\\n",
        "elements of Surrealism.Darroudi's first solo exhibition was held in \\\n",
        "{}, \\n{}, in {} at the invitation of the Florida State Art Center.\\\n",
        "She wrote articles \\non {} for the conservative Iranian newspaper, Kayhan.\"\n",
        "\n",
        "print(mytext.format(*mytuple))"
      ]
    },
    {
      "cell_type": "markdown",
      "metadata": {
        "id": "MJXGrJNWktXR"
      },
      "source": [
        "**Can you explain why we used ```*mytuple``` instead of ```mytuple``` above?** "
      ]
    },
    {
      "cell_type": "markdown",
      "metadata": {
        "id": "-3Ml2IPvju7m"
      },
      "source": [
        "## ☕☕\n",
        "\n",
        "7.Using **```keyword_arguments```** complete the following phrase."
      ]
    },
    {
      "cell_type": "code",
      "execution_count": null,
      "metadata": {
        "id": "5GJ10lCUfclK"
      },
      "outputs": [],
      "source": [
        "# Write your own code in this cell\n",
        "print(\"The area of a circle with radius \\{} is equal to {}\".format())"
      ]
    },
    {
      "cell_type": "markdown",
      "metadata": {
        "id": "pWrAPLK5qf-R"
      },
      "source": [
        "## ☕\n",
        "\n",
        "9.You are given the number $π$ to a precision of 20 decimal points.\n",
        "Please print these numbers with two decimal ponit."
      ]
    },
    {
      "cell_type": "code",
      "execution_count": null,
      "metadata": {
        "id": "M53OtPCZqlrI"
      },
      "outputs": [],
      "source": [
        "# Write your own code in this cell\n",
        "pi = 3.14159265358979323846\n",
        "print(pi)\n"
      ]
    },
    {
      "cell_type": "markdown",
      "metadata": {
        "id": "nCmjky1IqgQF"
      },
      "source": [
        "## ☕\n",
        "\n",
        "10.Please print the numbers below in this format. \n",
        "$$3.140000$$\n",
        "$$1.618000$$\n",
        "$$6.626068$$"
      ]
    },
    {
      "cell_type": "code",
      "execution_count": null,
      "metadata": {
        "id": "sErWv5z8qmi8"
      },
      "outputs": [],
      "source": [
        "# Write your own code in this cell\n",
        "N = [3.14,1.618,6.626068]\n"
      ]
    },
    {
      "cell_type": "markdown",
      "metadata": {
        "id": "HTTFKu88qgYI"
      },
      "source": [
        "## 🌶️\n",
        "\n",
        "11.Please print the numbers below in this format. \n",
        "\n",
        "005,421,241\n",
        "\n",
        "083,992,949\n",
        "\n",
        "331,002,651"
      ]
    },
    {
      "cell_type": "code",
      "execution_count": 52,
      "metadata": {
        "id": "js3i0A6nqnRu"
      },
      "outputs": [],
      "source": [
        "# Write your own code in this cell\n",
        "N=[5421241,83992949,331002651]"
      ]
    }
  ],
  "metadata": {
    "colab": {
      "collapsed_sections": [],
      "name": "10-PyEx.ipynb",
      "provenance": []
    },
    "kernelspec": {
      "display_name": "Python 3",
      "name": "python3"
    },
    "language_info": {
      "name": "python"
    }
  },
  "nbformat": 4,
  "nbformat_minor": 0
}
